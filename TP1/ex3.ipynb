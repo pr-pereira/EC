{
 "cells": [
  {
   "attachments": {},
   "cell_type": "markdown",
   "metadata": {},
   "source": [
    "### **Estruturas Criptográficas - 2022-2023**\n",
    "### **Grupo 7**\n",
    "#### **TP1. Problema 3**\n",
    "\n",
    "É pretendida a construção de um canal de comunicação privada e assíncrona com acordo de chaves feito com “X448 key exchange” e “Ed448 Signing&Verification” para a autenticação  dos agentes. A comunicação com a troca das chaves públicas entre os agentes (Alice e Bob). Cada um irá gerar a respetiva chave partilhada a ser utilizada nas funções para cifrar e decifrar. Note que deverão ser serão usadas assinaturas digitais (EDSA) de modo a garantir a autenticidade e integridade das chaves públicas partilhadas.\n",
    "Após a obtenção da chave partilhada por ambos os agentes, a Alice irá enviar mensagens ao Bob que serão cifradas utilizando uma AEAD com “Tweakable Block Ciphers”. A cifra por blocos primitiva, usada para gerar a “tweakable block cipher”, é o AES-256.\n",
    "\n",
    "**Resolução**:"
   ]
  },
  {
   "cell_type": "markdown",
   "metadata": {},
   "source": []
  }
 ],
 "metadata": {
  "kernelspec": {
   "display_name": "Python 3",
   "language": "python",
   "name": "python3"
  },
  "language_info": {
   "codemirror_mode": {
    "name": "ipython",
    "version": 3
   },
   "file_extension": ".py",
   "mimetype": "text/x-python",
   "name": "python",
   "nbconvert_exporter": "python",
   "pygments_lexer": "ipython3",
   "version": "3.10.10"
  },
  "orig_nbformat": 4,
  "vscode": {
   "interpreter": {
    "hash": "7e1998ff7f8aa20ada591c520b972326324e5ea05489af9e422744c7c09f6dad"
   }
  }
 },
 "nbformat": 4,
 "nbformat_minor": 2
}
