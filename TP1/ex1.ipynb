{
 "cells": [
  {
   "attachments": {},
   "cell_type": "markdown",
   "metadata": {},
   "source": [
    "### **Estruturas Criptográficas - 2022-2023**\n",
    "### **Grupo 7**\n",
    "#### **TP1. Problema 1**\n",
    "\n",
    "Pretende-se a criação de uma comunicação privada e assíncrona entre um agente *emitter* (Alice) e um agente *receiver* (Bob).\n",
    "\n",
    "A comunicação começa com a troca das duas chaves públicas de cada agente (criadas para construir tanto a chave para cifra como a chave para a autenticação). Depois, cada agente irá gerar as duas respetivas chaves partilhadas, *cipher_key* (chave de cifra) e *mac_key*​ (chave de autenticação).\n",
    "\n",
    "As assinaturas digitais (neste caso **ECDSA**) serão usadas para garantir a autenticação dos agentes.\n",
    "\n",
    "Note-se que a Alice envia mensagens ao Bob que sejam autenticadas com a chave partilhada de autenticação e cifradas com a chave de cifra.\n",
    "\n",
    "**Resolução**:"
   ]
  },
  {
   "cell_type": "code",
   "execution_count": 97,
   "metadata": {},
   "outputs": [],
   "source": [
    "import asyncio\n",
    "import nest_asyncio\n",
    "nest_asyncio.apply()\n",
    "import os\n",
    "from cryptography.hazmat.primitives import hashes, hmac\n",
    "from cryptography.hazmat.primitives.asymmetric import ec\n",
    "from cryptography.hazmat.primitives.kdf.hkdf import HKDF\n",
    "from cryptography.hazmat.primitives import serialization\n",
    "from cryptography.hazmat.primitives.ciphers.aead import AESGCM\n",
    "from pickle import dumps, loads\n"
   ]
  },
  {
   "attachments": {},
   "cell_type": "markdown",
   "metadata": {},
   "source": [
    "Como já referido, numa primeira fase, cada agente deverá gerar os pares de chaves assimétricas de modo a poderem acordar num par de chaves partilhadas. Para tal, utilizou-se o protocolo (seguro) **ECDH** (Elliptic Curve Diffie-Hellman Key Exchange).\n",
    "\n",
    "Como também já referido, é necessário que cada agente gere dois pares de chaves assimétricas, uma para cifrar as mensagems e a outra para a autenticação dos agentes. As respetivas chaves públicas serão então trocadas pelos dois agentes, por um canal controlado pelo atacante. No entanto, o atacante apenas conhecerá as chaves públicas, e por isso não consegue gerar as chaves partilhadas, pois não tem a informação das chaves privadas.\n",
    "\n",
    "A função *generate_keys* trata de gerar as 4 chaves referidas."
   ]
  },
  {
   "cell_type": "code",
   "execution_count": 98,
   "metadata": {},
   "outputs": [],
   "source": [
    "def generate_keys():\n",
    "    cipher_sk = ec.generate_private_key(ec.SECP384R1())\n",
    "    cipher_pk = cipher_sk.public_key()\n",
    "\n",
    "    mac_sk = ec.generate_private_key(ec.SECP384R1())\n",
    "    mac_pk = mac_sk.public_key()\n",
    "\n",
    "    return [cipher_sk, cipher_pk, mac_sk, mac_pk]"
   ]
  },
  {
   "attachments": {},
   "cell_type": "markdown",
   "metadata": {},
   "source": [
    "A função *generate_shared_keys* trata de gerar as chaves partilhadas, *cipher_key* e *mac_key*.\n",
    "\n",
    "É de notar que çara a maioria das aplicações, a chave partilhada deve ser passada a uma função de derivação de chaves (**KDF**). Isso permite a mistura de informações adicionais na chave, a derivação de várias chaves e a destruição de qualquer estrutura que possa estar presente."
   ]
  },
  {
   "cell_type": "code",
   "execution_count": 99,
   "metadata": {},
   "outputs": [],
   "source": [
    "def generate_shared_keys(cipher_sk, received_cipher_pk, mac_sk, received_mac_pk):\n",
    "    cipher_key = HKDF(\n",
    "        algorithm = hashes.SHA256(),\n",
    "        length = 32,\n",
    "        salt = None,\n",
    "        info = b'handshake data',\n",
    "    ).derive(cipher_sk.exchange(ec.ECDH(), received_cipher_pk))\n",
    "\n",
    "    mac_key = HKDF(\n",
    "        algorithm = hashes.SHA256(),\n",
    "        length = 32,\n",
    "        salt = None,\n",
    "        info = b'handshake data',\n",
    "    ).derive(mac_sk.exchange(ec.ECDH(), received_mac_pk))\n",
    "\n",
    "    return cipher_key, mac_key"
   ]
  },
  {
   "attachments": {},
   "cell_type": "markdown",
   "metadata": {},
   "source": [
    "Relativamente à autenticação dos agentes (não apenas para garantir a autenticidade, mas também a integridade e o não-repúdio na troca de chaves), foi utilizado o algoritmo de assinatura **ECDSA**. A chave privada é usada para assinar a mensagem e a chave pública para verificar a validade da assinatura. Assim, um agente consegue verificar se a mensagem que recebeu é fidedigna.\n",
    "\n",
    "A função *sign_message* é usada para assinar uma mensagem, retornando a assinatura, a própria mensagem e a chave pública.\n",
    "Note-se que para verificar é necessário usar o mesmo algoritmo de *hashing*."
   ]
  },
  {
   "cell_type": "code",
   "execution_count": 100,
   "metadata": {},
   "outputs": [],
   "source": [
    "def sign_message(message):\n",
    "    private_key = ec.generate_private_key(\n",
    "        ec.SECP384R1()\n",
    "    )\n",
    "    signature = private_key.sign(\n",
    "        message,\n",
    "        ec.ECDSA(hashes.SHA256())\n",
    "    )\n",
    "    packet = {'signature' : signature, \n",
    "              'message'   : message, \n",
    "              'ecdsa_pk'  : private_key.public_key().public_bytes(\n",
    "                                                        encoding=serialization.Encoding.PEM,\n",
    "                                                        format=serialization.PublicFormat.SubjectPublicKeyInfo\n",
    "                                                     )\n",
    "             }\n",
    "    return packet"
   ]
  },
  {
   "attachments": {},
   "cell_type": "markdown",
   "metadata": {},
   "source": [
    "A função *encrypt* será usada pela Alice para cifrar a mensagem a enviar ao Bob. A cifra a ser utilizada é a cifra simétrica **AES** no modo **GCM**, com a chave de cifra partilhada. Foi escolhida esta cifra por fornecer tanto confidencialidade como integridade do texto cifrado e por fornecer integridade para dados associados que não são cifrados. Além disso, o modo **GCM** é seguro contra ataques aos *nonce*. Neste tipo de ataque, o atacante envia a mensagem copiada para o destinatário diversas vezes. O *nonce*, que é gerado a partir de uma função de hash em modo XOF (SHAKE256), permite identificar cada mensagem com um identificador exclusivo, o que reduz significativamente a probabilidade desses ataques serem bem sucedidos."
   ]
  },
  {
   "cell_type": "code",
   "execution_count": 101,
   "metadata": {},
   "outputs": [],
   "source": [
    "def encrypt(plaintext, cipher_key, mac_key, ad):\n",
    "    \n",
    "    digest = hashes.Hash(hashes.SHAKE256(16))\n",
    "    nonce = digest.finalize()\n",
    "\n",
    "    aesgcm = AESGCM(cipher_key)\n",
    "    ciphertext = aesgcm.encrypt(nonce, plaintext, ad)\n",
    "\n",
    "    h = hmac.HMAC(mac_key, hashes.SHA256())\n",
    "    h.update(ciphertext)\n",
    "    h.update(ad)\n",
    "    tag = h.finalize()\n",
    "\n",
    "    return (ciphertext, nonce, tag)\n",
    "\n",
    "def decrypt(ciphertext, nonce, tag, cipher_key, mac_key, ad):\n",
    "    h = hmac.HMAC(mac_key, hashes.SHA256())\n",
    "    h.update(ciphertext)\n",
    "    h.update(ad)\n",
    "\n",
    "    try:\n",
    "        h.verify(tag)\n",
    "    except:\n",
    "        return 'ERROR --- Different MAC key used'\n",
    "    \n",
    "    # decrypt ciphertext\n",
    "    aesgcm = AESGCM(cipher_key)\n",
    "    original_plaintext = aesgcm.decrypt(nonce, ciphertext, ad)\n",
    "    return original_plaintext"
   ]
  },
  {
   "attachments": {},
   "cell_type": "markdown",
   "metadata": {},
   "source": [
    "##### **Comunicação**"
   ]
  },
  {
   "cell_type": "code",
   "execution_count": 124,
   "metadata": {},
   "outputs": [],
   "source": [
    "async def alice(queue):\n",
    "    keys = generate_keys()\n",
    "    cipher_sk = keys[0]\n",
    "    cipher_pk = keys[1]\n",
    "    mac_sk = keys[2]\n",
    "    mac_pk = keys[3]\n",
    "\n",
    "    public_keys = {'cipher_pk' : cipher_pk.public_bytes(\n",
    "                                    encoding=serialization.Encoding.PEM,\n",
    "                                    format=serialization.PublicFormat.SubjectPublicKeyInfo\n",
    "                                 ),\n",
    "                   'mac_pk'    : mac_pk.public_bytes(\n",
    "                                    encoding=serialization.Encoding.PEM,\n",
    "                                    format=serialization.PublicFormat.SubjectPublicKeyInfo\n",
    "                                 )\n",
    "                  }\n",
    "\n",
    "    print(\"Alice is sending her public keys (signed by her).\")\n",
    "    await queue.put(dumps(sign_message(dumps(public_keys))))\n",
    "\n",
    "    bob_pks_bytes = await queue.get()\n",
    "    bob_pks = loads(bob_pks_bytes)\n",
    "    print(\"Alice is receiving Bob's public keys.\")\n",
    "\n",
    "    print(\"Alice is verifying Bob's message signature.\")\n",
    "    bob_ecdsa_pk = serialization.load_pem_public_key(bob_pks['ecdsa_pk'])\n",
    "\n",
    "    try:\n",
    "        bob_ecdsa_pk.verify(bob_pks['signature'], bob_pks['message'], ec.ECDSA(hashes.SHA256()))\n",
    "    except:\n",
    "        return 'ERROR --- Different ECDSA key used'\n",
    "    \n",
    "    print(\"Bob's message is authentic!\")\n",
    "    \n",
    "    msg = loads(bob_pks['message'])\n",
    "    received_cipher_pk = serialization.load_pem_public_key(msg['cipher_pk'])\n",
    "    received_mac_pk = serialization.load_pem_public_key(msg['mac_pk'])\n",
    "\n",
    "    # generate shared keys\n",
    "    cipher_key, mac_key = generate_shared_keys(cipher_sk, received_cipher_pk, mac_sk, received_mac_pk)\n",
    "\n",
    "    msg_to_send = \"'Hello Bob!'\"\n",
    "    print('ORIGINAL (FROM ALICE): ' + msg_to_send)\n",
    "\n",
    "    # cipher message\n",
    "    print(\"Encrypting Alice's message.\")\n",
    "    ad = os.urandom(16)\n",
    "    ciphertext, nonce, tag = encrypt(msg_to_send, cipher_key, mac_key, ad)\n",
    "\n",
    "    # send packet\n",
    "    packet = {\n",
    "        'ciphertext' : ciphertext,\n",
    "        'nonce' : nonce,\n",
    "        'tag' : tag,\n",
    "        'ad' : ad\n",
    "    }\n",
    "    print(\"Sending Alice's message.\")\n",
    "    await queue.put(dumps(packet))\n"
   ]
  },
  {
   "cell_type": "code",
   "execution_count": 126,
   "metadata": {},
   "outputs": [],
   "source": [
    "async def bob(queue):\n",
    "    keys = generate_keys()\n",
    "    cipher_sk = keys[0]\n",
    "    cipher_pk = keys[1]\n",
    "    mac_sk = keys[2]\n",
    "    mac_pk = keys[3]\n",
    "\n",
    "    public_keys = {'cipher_pk': cipher_pk.public_bytes(\n",
    "                                    encoding=serialization.Encoding.PEM,\n",
    "                                    format=serialization.PublicFormat.SubjectPublicKeyInfo\n",
    "                                ),\n",
    "                      'mac_pk': mac_pk.public_bytes(\n",
    "                                    encoding=serialization.Encoding.PEM,\n",
    "                                    format=serialization.PublicFormat.SubjectPublicKeyInfo\n",
    "                                )\n",
    "                  }\n",
    "    \n",
    "    alice_pks_bytes = await queue.get()\n",
    "    alice_pks = loads(alice_pks_bytes)\n",
    "    print(\"Bob is receiving Alice's public keys.\")\n",
    "\n",
    "    alice_ecdsa_pk = serialization.load_pem_public_key(alice_pks['ecdsa_pk'])\n",
    "\n",
    "    try:\n",
    "        alice_ecdsa_pk.verify(alice_pks['signature'], alice_pks['message'], ec.ECDSA(hashes.SHA256()))\n",
    "    except:\n",
    "        return 'ERROR --- Different ECDSA key used'\n",
    "    \n",
    "    print(\"Alice's message is authentic!\")\n",
    "\n",
    "    msg = loads(alice_pks['message'])\n",
    "    received_cipher_pk = serialization.load_pem_public_key(msg['cipher_pk'])\n",
    "    received_mac_pk = serialization.load_pem_public_key(msg['mac_pk'])\n",
    "\n",
    "    # generate shared keys\n",
    "    cipher_key, mac_key = generate_shared_keys(cipher_sk, received_cipher_pk, mac_sk, received_mac_pk)\n",
    "\n",
    "    print(\"Bob is sending his public keys (signed by him).\")\n",
    "    await queue.put(dumps(sign_message(dumps(public_keys))))\n",
    "\n",
    "    # receives ciphertext\n",
    "    packet_bytes = await queue.get()\n",
    "    packet = loads(packet_bytes)\n",
    "    print('Bob received ciphertext and tries to decrypt it.')\n",
    "\n",
    "    plaintext = decrypt(packet['ciphertext'], packet['nonce'], packet['tag'], cipher_key, mac_key, packet['ad'])\n",
    "\n",
    "    print(\"Decrypted message: \" + plaintext)"
   ]
  },
  {
   "cell_type": "code",
   "execution_count": 125,
   "metadata": {},
   "outputs": [
    {
     "name": "stdout",
     "output_type": "stream",
     "text": [
      "Alice is sending her public keys (signed by her).\n",
      "Alice is receiving Bob's public keys.\n",
      "Alice is verifying Bob's message signature.\n",
      "Bob's message is authentic!\n",
      "ORIGINAL: (FROM ALICE) Hello Bob!\n",
      "Encrypting Alice's message.\n"
     ]
    },
    {
     "name": "stderr",
     "output_type": "stream",
     "text": [
      "Task was destroyed but it is pending!\n",
      "task: <Task pending name='Task-31' coro=<bob() running at /var/folders/4g/hdl4v8090n3042w6drfn947r0000gn/T/ipykernel_62997/2637759326.py:18> wait_for=<Future pending cb=[Task.__wakeup()]> cb=[gather.<locals>._done_callback() at /Library/Developer/CommandLineTools/Library/Frameworks/Python3.framework/Versions/3.9/lib/python3.9/asyncio/tasks.py:764]>\n",
      "Task was destroyed but it is pending!\n",
      "task: <Task pending name='Task-34' coro=<bob() running at /var/folders/4g/hdl4v8090n3042w6drfn947r0000gn/T/ipykernel_62997/2637759326.py:18> wait_for=<Future pending cb=[Task.__wakeup()]> cb=[gather.<locals>._done_callback() at /Library/Developer/CommandLineTools/Library/Frameworks/Python3.framework/Versions/3.9/lib/python3.9/asyncio/tasks.py:764]>\n",
      "Task was destroyed but it is pending!\n",
      "task: <Task pending name='Task-37' coro=<bob() running at /var/folders/4g/hdl4v8090n3042w6drfn947r0000gn/T/ipykernel_62997/2637759326.py:18> wait_for=<Future pending cb=[Task.__wakeup()]> cb=[gather.<locals>._done_callback() at /Library/Developer/CommandLineTools/Library/Frameworks/Python3.framework/Versions/3.9/lib/python3.9/asyncio/tasks.py:764]>\n",
      "Task was destroyed but it is pending!\n",
      "task: <Task pending name='Task-40' coro=<bob() running at /var/folders/4g/hdl4v8090n3042w6drfn947r0000gn/T/ipykernel_62997/2214777170.py:18> wait_for=<Future pending cb=[Task.__wakeup()]> cb=[gather.<locals>._done_callback() at /Library/Developer/CommandLineTools/Library/Frameworks/Python3.framework/Versions/3.9/lib/python3.9/asyncio/tasks.py:764]>\n",
      "Task was destroyed but it is pending!\n",
      "task: <Task pending name='Task-43' coro=<bob() running at /var/folders/4g/hdl4v8090n3042w6drfn947r0000gn/T/ipykernel_62997/106639008.py:18> wait_for=<Future pending cb=[Task.__wakeup()]> cb=[gather.<locals>._done_callback() at /Library/Developer/CommandLineTools/Library/Frameworks/Python3.framework/Versions/3.9/lib/python3.9/asyncio/tasks.py:764]>\n"
     ]
    },
    {
     "ename": "TypeError",
     "evalue": "data must be bytes",
     "output_type": "error",
     "traceback": [
      "\u001b[0;31m---------------------------------------------------------------------------\u001b[0m",
      "\u001b[0;31mTypeError\u001b[0m                                 Traceback (most recent call last)",
      "Cell \u001b[0;32mIn[125], line 6\u001b[0m\n\u001b[1;32m      3\u001b[0m     tasks \u001b[39m=\u001b[39m [asyncio\u001b[39m.\u001b[39mcreate_task(alice(q)), asyncio\u001b[39m.\u001b[39mcreate_task(bob(q))]\n\u001b[1;32m      4\u001b[0m     \u001b[39mawait\u001b[39;00m asyncio\u001b[39m.\u001b[39mgather(\u001b[39m*\u001b[39mtasks)\n\u001b[0;32m----> 6\u001b[0m asyncio\u001b[39m.\u001b[39;49mrun(main())\n",
      "File \u001b[0;32m~/Library/Python/3.9/lib/python/site-packages/nest_asyncio.py:35\u001b[0m, in \u001b[0;36m_patch_asyncio.<locals>.run\u001b[0;34m(main, debug)\u001b[0m\n\u001b[1;32m     33\u001b[0m task \u001b[39m=\u001b[39m asyncio\u001b[39m.\u001b[39mensure_future(main)\n\u001b[1;32m     34\u001b[0m \u001b[39mtry\u001b[39;00m:\n\u001b[0;32m---> 35\u001b[0m     \u001b[39mreturn\u001b[39;00m loop\u001b[39m.\u001b[39;49mrun_until_complete(task)\n\u001b[1;32m     36\u001b[0m \u001b[39mfinally\u001b[39;00m:\n\u001b[1;32m     37\u001b[0m     \u001b[39mif\u001b[39;00m \u001b[39mnot\u001b[39;00m task\u001b[39m.\u001b[39mdone():\n",
      "File \u001b[0;32m~/Library/Python/3.9/lib/python/site-packages/nest_asyncio.py:90\u001b[0m, in \u001b[0;36m_patch_loop.<locals>.run_until_complete\u001b[0;34m(self, future)\u001b[0m\n\u001b[1;32m     87\u001b[0m \u001b[39mif\u001b[39;00m \u001b[39mnot\u001b[39;00m f\u001b[39m.\u001b[39mdone():\n\u001b[1;32m     88\u001b[0m     \u001b[39mraise\u001b[39;00m \u001b[39mRuntimeError\u001b[39;00m(\n\u001b[1;32m     89\u001b[0m         \u001b[39m'\u001b[39m\u001b[39mEvent loop stopped before Future completed.\u001b[39m\u001b[39m'\u001b[39m)\n\u001b[0;32m---> 90\u001b[0m \u001b[39mreturn\u001b[39;00m f\u001b[39m.\u001b[39;49mresult()\n",
      "File \u001b[0;32m/Library/Developer/CommandLineTools/Library/Frameworks/Python3.framework/Versions/3.9/lib/python3.9/asyncio/futures.py:201\u001b[0m, in \u001b[0;36mFuture.result\u001b[0;34m(self)\u001b[0m\n\u001b[1;32m    199\u001b[0m \u001b[39mself\u001b[39m\u001b[39m.\u001b[39m__log_traceback \u001b[39m=\u001b[39m \u001b[39mFalse\u001b[39;00m\n\u001b[1;32m    200\u001b[0m \u001b[39mif\u001b[39;00m \u001b[39mself\u001b[39m\u001b[39m.\u001b[39m_exception \u001b[39mis\u001b[39;00m \u001b[39mnot\u001b[39;00m \u001b[39mNone\u001b[39;00m:\n\u001b[0;32m--> 201\u001b[0m     \u001b[39mraise\u001b[39;00m \u001b[39mself\u001b[39m\u001b[39m.\u001b[39m_exception\n\u001b[1;32m    202\u001b[0m \u001b[39mreturn\u001b[39;00m \u001b[39mself\u001b[39m\u001b[39m.\u001b[39m_result\n",
      "File \u001b[0;32m/Library/Developer/CommandLineTools/Library/Frameworks/Python3.framework/Versions/3.9/lib/python3.9/asyncio/tasks.py:258\u001b[0m, in \u001b[0;36mTask.__step\u001b[0;34m(***failed resolving arguments***)\u001b[0m\n\u001b[1;32m    256\u001b[0m         result \u001b[39m=\u001b[39m coro\u001b[39m.\u001b[39msend(\u001b[39mNone\u001b[39;00m)\n\u001b[1;32m    257\u001b[0m     \u001b[39melse\u001b[39;00m:\n\u001b[0;32m--> 258\u001b[0m         result \u001b[39m=\u001b[39m coro\u001b[39m.\u001b[39;49mthrow(exc)\n\u001b[1;32m    259\u001b[0m \u001b[39mexcept\u001b[39;00m \u001b[39mStopIteration\u001b[39;00m \u001b[39mas\u001b[39;00m exc:\n\u001b[1;32m    260\u001b[0m     \u001b[39mif\u001b[39;00m \u001b[39mself\u001b[39m\u001b[39m.\u001b[39m_must_cancel:\n\u001b[1;32m    261\u001b[0m         \u001b[39m# Task is cancelled right before coro stops.\u001b[39;00m\n",
      "Cell \u001b[0;32mIn[125], line 4\u001b[0m, in \u001b[0;36mmain\u001b[0;34m()\u001b[0m\n\u001b[1;32m      2\u001b[0m q \u001b[39m=\u001b[39m asyncio\u001b[39m.\u001b[39mQueue()\n\u001b[1;32m      3\u001b[0m tasks \u001b[39m=\u001b[39m [asyncio\u001b[39m.\u001b[39mcreate_task(alice(q)), asyncio\u001b[39m.\u001b[39mcreate_task(bob(q))]\n\u001b[0;32m----> 4\u001b[0m \u001b[39mawait\u001b[39;00m asyncio\u001b[39m.\u001b[39mgather(\u001b[39m*\u001b[39mtasks)\n",
      "File \u001b[0;32m/Library/Developer/CommandLineTools/Library/Frameworks/Python3.framework/Versions/3.9/lib/python3.9/asyncio/tasks.py:328\u001b[0m, in \u001b[0;36mTask.__wakeup\u001b[0;34m(self, future)\u001b[0m\n\u001b[1;32m    326\u001b[0m \u001b[39mdef\u001b[39;00m \u001b[39m__wakeup\u001b[39m(\u001b[39mself\u001b[39m, future):\n\u001b[1;32m    327\u001b[0m     \u001b[39mtry\u001b[39;00m:\n\u001b[0;32m--> 328\u001b[0m         future\u001b[39m.\u001b[39;49mresult()\n\u001b[1;32m    329\u001b[0m     \u001b[39mexcept\u001b[39;00m \u001b[39mBaseException\u001b[39;00m \u001b[39mas\u001b[39;00m exc:\n\u001b[1;32m    330\u001b[0m         \u001b[39m# This may also be a cancellation.\u001b[39;00m\n\u001b[1;32m    331\u001b[0m         \u001b[39mself\u001b[39m\u001b[39m.\u001b[39m__step(exc)\n",
      "File \u001b[0;32m/Library/Developer/CommandLineTools/Library/Frameworks/Python3.framework/Versions/3.9/lib/python3.9/asyncio/tasks.py:256\u001b[0m, in \u001b[0;36mTask.__step\u001b[0;34m(***failed resolving arguments***)\u001b[0m\n\u001b[1;32m    252\u001b[0m \u001b[39mtry\u001b[39;00m:\n\u001b[1;32m    253\u001b[0m     \u001b[39mif\u001b[39;00m exc \u001b[39mis\u001b[39;00m \u001b[39mNone\u001b[39;00m:\n\u001b[1;32m    254\u001b[0m         \u001b[39m# We use the `send` method directly, because coroutines\u001b[39;00m\n\u001b[1;32m    255\u001b[0m         \u001b[39m# don't have `__iter__` and `__next__` methods.\u001b[39;00m\n\u001b[0;32m--> 256\u001b[0m         result \u001b[39m=\u001b[39m coro\u001b[39m.\u001b[39;49msend(\u001b[39mNone\u001b[39;49;00m)\n\u001b[1;32m    257\u001b[0m     \u001b[39melse\u001b[39;00m:\n\u001b[1;32m    258\u001b[0m         result \u001b[39m=\u001b[39m coro\u001b[39m.\u001b[39mthrow(exc)\n",
      "Cell \u001b[0;32mIn[124], line 48\u001b[0m, in \u001b[0;36malice\u001b[0;34m(queue)\u001b[0m\n\u001b[1;32m     46\u001b[0m \u001b[39mprint\u001b[39m(\u001b[39m\"\u001b[39m\u001b[39mEncrypting Alice\u001b[39m\u001b[39m'\u001b[39m\u001b[39ms message.\u001b[39m\u001b[39m\"\u001b[39m)\n\u001b[1;32m     47\u001b[0m ad \u001b[39m=\u001b[39m os\u001b[39m.\u001b[39murandom(\u001b[39m16\u001b[39m)\n\u001b[0;32m---> 48\u001b[0m ciphertext, nonce, tag \u001b[39m=\u001b[39m encrypt(msg_to_send, cipher_key, mac_key, ad)\n\u001b[1;32m     50\u001b[0m \u001b[39m# send packet\u001b[39;00m\n\u001b[1;32m     51\u001b[0m packet \u001b[39m=\u001b[39m {\n\u001b[1;32m     52\u001b[0m     \u001b[39m'\u001b[39m\u001b[39mciphertext\u001b[39m\u001b[39m'\u001b[39m : ciphertext,\n\u001b[1;32m     53\u001b[0m     \u001b[39m'\u001b[39m\u001b[39mnonce\u001b[39m\u001b[39m'\u001b[39m : nonce,\n\u001b[1;32m     54\u001b[0m     \u001b[39m'\u001b[39m\u001b[39mtag\u001b[39m\u001b[39m'\u001b[39m : tag,\n\u001b[1;32m     55\u001b[0m     \u001b[39m'\u001b[39m\u001b[39mad\u001b[39m\u001b[39m'\u001b[39m : ad\n\u001b[1;32m     56\u001b[0m }\n",
      "Cell \u001b[0;32mIn[101], line 7\u001b[0m, in \u001b[0;36mencrypt\u001b[0;34m(plaintext, cipher_key, mac_key, ad)\u001b[0m\n\u001b[1;32m      4\u001b[0m nonce \u001b[39m=\u001b[39m digest\u001b[39m.\u001b[39mfinalize()\n\u001b[1;32m      6\u001b[0m aesgcm \u001b[39m=\u001b[39m AESGCM(cipher_key)\n\u001b[0;32m----> 7\u001b[0m ciphertext \u001b[39m=\u001b[39m aesgcm\u001b[39m.\u001b[39;49mencrypt(nonce, plaintext, ad)\n\u001b[1;32m      9\u001b[0m h \u001b[39m=\u001b[39m hmac\u001b[39m.\u001b[39mHMAC(mac_key, hashes\u001b[39m.\u001b[39mSHA256())\n\u001b[1;32m     10\u001b[0m h\u001b[39m.\u001b[39mupdate(ciphertext)\n",
      "File \u001b[0;32m~/Library/Python/3.9/lib/python/site-packages/cryptography/hazmat/primitives/ciphers/aead.py:208\u001b[0m, in \u001b[0;36mAESGCM.encrypt\u001b[0;34m(self, nonce, data, associated_data)\u001b[0m\n\u001b[1;32m    202\u001b[0m \u001b[39mif\u001b[39;00m \u001b[39mlen\u001b[39m(data) \u001b[39m>\u001b[39m \u001b[39mself\u001b[39m\u001b[39m.\u001b[39m_MAX_SIZE \u001b[39mor\u001b[39;00m \u001b[39mlen\u001b[39m(associated_data) \u001b[39m>\u001b[39m \u001b[39mself\u001b[39m\u001b[39m.\u001b[39m_MAX_SIZE:\n\u001b[1;32m    203\u001b[0m     \u001b[39m# This is OverflowError to match what cffi would raise\u001b[39;00m\n\u001b[1;32m    204\u001b[0m     \u001b[39mraise\u001b[39;00m \u001b[39mOverflowError\u001b[39;00m(\n\u001b[1;32m    205\u001b[0m         \u001b[39m\"\u001b[39m\u001b[39mData or associated data too long. Max 2**31 - 1 bytes\u001b[39m\u001b[39m\"\u001b[39m\n\u001b[1;32m    206\u001b[0m     )\n\u001b[0;32m--> 208\u001b[0m \u001b[39mself\u001b[39;49m\u001b[39m.\u001b[39;49m_check_params(nonce, data, associated_data)\n\u001b[1;32m    209\u001b[0m \u001b[39mreturn\u001b[39;00m aead\u001b[39m.\u001b[39m_encrypt(backend, \u001b[39mself\u001b[39m, nonce, data, [associated_data], \u001b[39m16\u001b[39m)\n",
      "File \u001b[0;32m~/Library/Python/3.9/lib/python/site-packages/cryptography/hazmat/primitives/ciphers/aead.py:230\u001b[0m, in \u001b[0;36mAESGCM._check_params\u001b[0;34m(self, nonce, data, associated_data)\u001b[0m\n\u001b[1;32m    223\u001b[0m \u001b[39mdef\u001b[39;00m \u001b[39m_check_params\u001b[39m(\n\u001b[1;32m    224\u001b[0m     \u001b[39mself\u001b[39m,\n\u001b[1;32m    225\u001b[0m     nonce: \u001b[39mbytes\u001b[39m,\n\u001b[1;32m    226\u001b[0m     data: \u001b[39mbytes\u001b[39m,\n\u001b[1;32m    227\u001b[0m     associated_data: \u001b[39mbytes\u001b[39m,\n\u001b[1;32m    228\u001b[0m ) \u001b[39m-\u001b[39m\u001b[39m>\u001b[39m \u001b[39mNone\u001b[39;00m:\n\u001b[1;32m    229\u001b[0m     utils\u001b[39m.\u001b[39m_check_byteslike(\u001b[39m\"\u001b[39m\u001b[39mnonce\u001b[39m\u001b[39m\"\u001b[39m, nonce)\n\u001b[0;32m--> 230\u001b[0m     utils\u001b[39m.\u001b[39;49m_check_bytes(\u001b[39m\"\u001b[39;49m\u001b[39mdata\u001b[39;49m\u001b[39m\"\u001b[39;49m, data)\n\u001b[1;32m    231\u001b[0m     utils\u001b[39m.\u001b[39m_check_bytes(\u001b[39m\"\u001b[39m\u001b[39massociated_data\u001b[39m\u001b[39m\"\u001b[39m, associated_data)\n\u001b[1;32m    232\u001b[0m     \u001b[39mif\u001b[39;00m \u001b[39mlen\u001b[39m(nonce) \u001b[39m<\u001b[39m \u001b[39m8\u001b[39m \u001b[39mor\u001b[39;00m \u001b[39mlen\u001b[39m(nonce) \u001b[39m>\u001b[39m \u001b[39m128\u001b[39m:\n",
      "File \u001b[0;32m~/Library/Python/3.9/lib/python/site-packages/cryptography/utils.py:30\u001b[0m, in \u001b[0;36m_check_bytes\u001b[0;34m(name, value)\u001b[0m\n\u001b[1;32m     28\u001b[0m \u001b[39mdef\u001b[39;00m \u001b[39m_check_bytes\u001b[39m(name: \u001b[39mstr\u001b[39m, value: \u001b[39mbytes\u001b[39m) \u001b[39m-\u001b[39m\u001b[39m>\u001b[39m \u001b[39mNone\u001b[39;00m:\n\u001b[1;32m     29\u001b[0m     \u001b[39mif\u001b[39;00m \u001b[39mnot\u001b[39;00m \u001b[39misinstance\u001b[39m(value, \u001b[39mbytes\u001b[39m):\n\u001b[0;32m---> 30\u001b[0m         \u001b[39mraise\u001b[39;00m \u001b[39mTypeError\u001b[39;00m(\u001b[39m\"\u001b[39m\u001b[39m{}\u001b[39;00m\u001b[39m must be bytes\u001b[39m\u001b[39m\"\u001b[39m\u001b[39m.\u001b[39mformat(name))\n",
      "\u001b[0;31mTypeError\u001b[0m: data must be bytes"
     ]
    }
   ],
   "source": [
    "async def main():\n",
    "    q = asyncio.Queue()\n",
    "    tasks = [asyncio.create_task(alice(q)), asyncio.create_task(bob(q))]\n",
    "    await asyncio.gather(*tasks)\n",
    "\n",
    "asyncio.run(main())"
   ]
  }
 ],
 "metadata": {
  "kernelspec": {
   "display_name": "Python 3",
   "language": "python",
   "name": "python3"
  },
  "language_info": {
   "codemirror_mode": {
    "name": "ipython",
    "version": 3
   },
   "file_extension": ".py",
   "mimetype": "text/x-python",
   "name": "python",
   "nbconvert_exporter": "python",
   "pygments_lexer": "ipython3",
   "version": "3.9.6"
  },
  "orig_nbformat": 4,
  "vscode": {
   "interpreter": {
    "hash": "31f2aee4e71d21fbe5cf8b01ff0e069b9275f58929596ceb00d14d90e3e16cd6"
   }
  }
 },
 "nbformat": 4,
 "nbformat_minor": 2
}
