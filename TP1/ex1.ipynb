{
 "cells": [
  {
   "attachments": {},
   "cell_type": "markdown",
   "metadata": {},
   "source": [
    "### **Estruturas Criptográficas - 2022-2023**\n",
    "### **Grupo 7**\n",
    "#### **TP1. Problema 1**\n",
    "\n",
    "Pretende-se a criação de uma comunicação privada e assíncrona entre um agente *emitter* (Alice) e um agente *receiver* (Bob).\n",
    "\n",
    "A comunicação começa com a troca das duas chaves públicas de cada agente (criadas para construir tanto a chave para cifra como a chave para a autenticação). Depois, cada agente irá gerar as duas respetivas chaves partilhadas, *cipher_key* (chave de cifra) e *mac_key*​ (chave de autenticação).\n",
    "\n",
    "As assinaturas digitais (neste caso **ECDSA**) serão usadas para garantir a autenticação dos agentes.\n",
    "\n",
    "Note-se que a Alice envia mensagens ao Bob que sejam autenticadas com a chave partilhada de autenticação e cifradas com a chave de cifra.\n",
    "\n",
    "**Resolução**:"
   ]
  },
  {
   "cell_type": "code",
   "execution_count": 85,
   "metadata": {},
   "outputs": [],
   "source": [
    "import asyncio\n",
    "import nest_asyncio\n",
    "nest_asyncio.apply()\n",
    "import os\n",
    "from cryptography.hazmat.primitives import hashes, hmac\n",
    "from cryptography.hazmat.primitives.asymmetric import ec\n",
    "from cryptography.hazmat.primitives.kdf.hkdf import HKDF\n",
    "from cryptography.hazmat.primitives import serialization\n",
    "from cryptography.hazmat.primitives.ciphers.aead import AESGCM\n",
    "from pickle import dumps, loads\n"
   ]
  },
  {
   "attachments": {},
   "cell_type": "markdown",
   "metadata": {},
   "source": [
    "Como já referido, numa primeira fase, cada agente deverá gerar os pares de chaves assimétricas de modo a poderem acordar num par de chaves partilhadas. Para tal, utilizou-se o protocolo (seguro) **ECDH** (Elliptic Curve Diffie-Hellman Key Exchange).\n",
    "\n",
    "Como também já referido, é necessário que cada agente gere dois pares de chaves assimétricas, uma para cifrar as mensagems e a outra para a autenticação dos agentes. As respetivas chaves públicas serão então trocadas pelos dois agentes, por um canal controlado pelo atacante. No entanto, o atacante apenas conhecerá as chaves públicas, e por isso não consegue gerar as chaves partilhadas, pois não tem a informação das chaves privadas.\n",
    "\n",
    "A função *generate_keys* trata de gerar as 4 chaves referidas."
   ]
  },
  {
   "cell_type": "code",
   "execution_count": 86,
   "metadata": {},
   "outputs": [],
   "source": [
    "def generate_keys():\n",
    "    cipher_sk = ec.generate_private_key(ec.SECP384R1())\n",
    "    cipher_pk = cipher_sk.public_key()\n",
    "\n",
    "    mac_sk = ec.generate_private_key(ec.SECP384R1())\n",
    "    mac_pk = mac_sk.public_key()\n",
    "\n",
    "    return [cipher_sk, cipher_pk, mac_sk, mac_pk]"
   ]
  },
  {
   "attachments": {},
   "cell_type": "markdown",
   "metadata": {},
   "source": [
    "A função *generate_shared_keys* trata de gerar as chaves partilhadas, *cipher_key* e *mac_key*.\n",
    "\n",
    "É de notar que çara a maioria das aplicações, a chave partilhada deve ser passada a uma função de derivação de chaves (**KDF**). Isso permite a mistura de informações adicionais na chave, a derivação de várias chaves e a destruição de qualquer estrutura que possa estar presente."
   ]
  },
  {
   "cell_type": "code",
   "execution_count": 87,
   "metadata": {},
   "outputs": [],
   "source": [
    "def generate_shared_keys(cipher_sk, received_cipher_pk, mac_sk, received_mac_pk):\n",
    "    cipher_key = HKDF(\n",
    "        algorithm = hashes.SHA256(),\n",
    "        length = 32,\n",
    "        salt = None,\n",
    "        info = b'handshake data',\n",
    "    ).derive(cipher_sk.exchange(ec.ECDH(), received_cipher_pk))\n",
    "\n",
    "    mac_key = HKDF(\n",
    "        algorithm = hashes.SHA256(),\n",
    "        length = 32,\n",
    "        salt = None,\n",
    "        info = b'handshake data',\n",
    "    ).derive(mac_sk.exchange(ec.ECDH(), received_mac_pk))\n",
    "\n",
    "    return cipher_key, mac_key"
   ]
  },
  {
   "attachments": {},
   "cell_type": "markdown",
   "metadata": {},
   "source": [
    "Relativamente à autenticação dos agentes (não apenas para garantir a autenticidade, mas também a integridade e o não-repúdio na troca de chaves), foi utilizado o algoritmo de assinatura **ECDSA**. A chave privada é usada para assinar a mensagem e a chave pública para verificar a validade da assinatura. Assim, um agente consegue verificar se a mensagem que recebeu é fidedigna.\n",
    "\n",
    "A função *sign_message* é usada para assinar uma mensagem, retornando a assinatura, a própria mensagem e a chave pública.\n",
    "Note-se que para verificar é necessário usar o mesmo algoritmo de *hashing*."
   ]
  },
  {
   "cell_type": "code",
   "execution_count": 88,
   "metadata": {},
   "outputs": [],
   "source": [
    "def sign_message(message):\n",
    "    private_key = ec.generate_private_key(\n",
    "        ec.SECP384R1()\n",
    "    )\n",
    "    signature = private_key.sign(\n",
    "        message,\n",
    "        ec.ECDSA(hashes.SHA256())\n",
    "    )\n",
    "    packet = {'signature' : signature, \n",
    "              'message'   : message, \n",
    "              'ecdsa_pk'  : private_key.public_key().public_bytes(\n",
    "                                                        encoding=serialization.Encoding.PEM,\n",
    "                                                        format=serialization.PublicFormat.SubjectPublicKeyInfo\n",
    "                                                     )\n",
    "             }\n",
    "    return packet"
   ]
  },
  {
   "attachments": {},
   "cell_type": "markdown",
   "metadata": {},
   "source": [
    "A função *encrypt* será usada pela Alice para cifrar a mensagem a enviar ao Bob. A cifra a ser utilizada é a cifra simétrica **AES** no modo **GCM**, com a chave de cifra partilhada. Foi escolhida esta cifra por fornecer tanto confidencialidade como integridade do texto cifrado e por fornecer integridade para dados associados que não são cifrados. Além disso, o modo **GCM** é seguro contra ataques aos *nonce*. Neste tipo de ataque, o atacante envia a mensagem copiada para o destinatário diversas vezes. O *nonce*, que é gerado a partir de uma função de hash em modo XOF (SHAKE256), permite identificar cada mensagem com um identificador exclusivo, o que reduz significativamente a probabilidade desses ataques serem bem sucedidos."
   ]
  },
  {
   "cell_type": "code",
   "execution_count": 89,
   "metadata": {},
   "outputs": [],
   "source": [
    "def encrypt(plaintext, cipher_key, mac_key, ad):\n",
    "    \n",
    "    digest = hashes.Hash(hashes.SHAKE256(16))\n",
    "    nonce = digest.finalize()\n",
    "\n",
    "    aesgcm = AESGCM(cipher_key)\n",
    "    ciphertext = aesgcm.encrypt(nonce, plaintext, ad)\n",
    "\n",
    "    h = hmac.HMAC(mac_key, hashes.SHA256())\n",
    "    h.update(ciphertext)\n",
    "    h.update(ad)\n",
    "    tag = h.finalize()\n",
    "\n",
    "    return (ciphertext, nonce, tag)\n",
    "\n",
    "def decrypt(ciphertext, nonce, tag, cipher_key, mac_key, ad):\n",
    "    h = hmac.HMAC(mac_key, hashes.SHA256())\n",
    "    h.update(ciphertext)\n",
    "    h.update(ad)\n",
    "\n",
    "    try:\n",
    "        h.verify(tag)\n",
    "    except:\n",
    "        return 'ERROR --- Different MAC key used'\n",
    "    else:\n",
    "        # decrypt ciphertext\n",
    "        aesgcm = AESGCM(cipher_key)\n",
    "        original_plaintext = aesgcm.decrypt(nonce, ciphertext, ad)\n",
    "        return original_plaintext"
   ]
  },
  {
   "attachments": {},
   "cell_type": "markdown",
   "metadata": {},
   "source": [
    "##### **Comunicação**"
   ]
  },
  {
   "cell_type": "code",
   "execution_count": 90,
   "metadata": {},
   "outputs": [],
   "source": [
    "async def alice(queue):\n",
    "    keys = generate_keys()\n",
    "    cipher_sk = keys[0]\n",
    "    cipher_pk = keys[1]\n",
    "    mac_sk = keys[2]\n",
    "    mac_pk = keys[3]\n",
    "\n",
    "    public_keys = {'cipher_pk' : cipher_pk.public_bytes(\n",
    "                                    encoding=serialization.Encoding.PEM,\n",
    "                                    format=serialization.PublicFormat.SubjectPublicKeyInfo\n",
    "                                 ),\n",
    "                   'mac_pk'    : mac_pk.public_bytes(\n",
    "                                    encoding=serialization.Encoding.PEM,\n",
    "                                    format=serialization.PublicFormat.SubjectPublicKeyInfo\n",
    "                                 )\n",
    "                  }\n",
    "\n",
    "    print(\"Alice is sending her public keys (signed by her).\")\n",
    "    await queue.put(sign_message(public_keys))\n",
    "\n",
    "    bob_pks = await queue.get()\n",
    "    print(\"Alice is receiving Bob's public keys.\")\n",
    "\n",
    "    print(\"Alice is verifying Bob's message signature.\")\n",
    "    bob_ecdsa_pk = serialization.load_pem_public_key(bob_pks['ecdsa_pk'])\n",
    "\n",
    "    try:\n",
    "        bob_ecdsa_pk.verify(bob_pks['signature'], bob_pks['message'], ec.ECDSA(hashes.SHA256()))\n",
    "    except:\n",
    "        return 'ERROR --- Different ECDSA key used'\n",
    "    else:\n",
    "        print(\"Bob's message is authentic!\")\n",
    "\n",
    "        received_cipher_pk = serialization.load_pem_public_key(bob_pks['message']['cipher_pk'])\n",
    "        received_mac_pk = serialization.load_pem_public_key(bob_pks['message']['mac_pk'])\n",
    "\n",
    "        # generate shared keys\n",
    "        cipher_key, mac_key = generate_shared_keys(cipher_sk, received_cipher_pk, mac_sk, received_mac_pk)\n",
    "\n",
    "        msg_to_send = '(FROM ALICE) Hello Bob!'\n",
    "        print('ORIGINAL: ' + msg_to_send)\n",
    "\n",
    "        # cipher message\n",
    "        print(\"Encrypting Alice's message.\")\n",
    "        ad = os.urandom(16)\n",
    "        ciphertext, nonce, tag = encrypt(msg_to_send, cipher_key, mac_key, ad)\n",
    "\n",
    "        # send packet\n",
    "        packet = {\n",
    "            'ciphertext' : ciphertext,\n",
    "            'nonce' : nonce,\n",
    "            'tag' : tag,\n",
    "            'ad' : ad\n",
    "        }\n",
    "        print(\"Sending Alice's message.\")"
   ]
  },
  {
   "cell_type": "code",
   "execution_count": 91,
   "metadata": {},
   "outputs": [],
   "source": [
    "async def bob(queue):\n",
    "    keys = generate_keys()\n",
    "    cipher_sk = keys[0]\n",
    "    cipher_pk = keys[1]\n",
    "    mac_sk = keys[2]\n",
    "    mac_pk = keys[3]\n",
    "\n",
    "    public_keys = {'cipher_pk': cipher_pk.public_bytes(\n",
    "                                    encoding=serialization.Encoding.PEM,\n",
    "                                    format=serialization.PublicFormat.SubjectPublicKeyInfo\n",
    "                                ),\n",
    "                      'mac_pk': mac_pk.public_bytes(\n",
    "                                    encoding=serialization.Encoding.PEM,\n",
    "                                    format=serialization.PublicFormat.SubjectPublicKeyInfo\n",
    "                                )\n",
    "                  }\n",
    "    \n",
    "    alice_pks = await queue.get()\n",
    "    print(\"Bob is receiving Alice's public keys.\")\n",
    "\n",
    "    alice_ecdsa_pk = serialization.load_pem_public_key(alice_pks['ecdsa_pk'])\n",
    "\n",
    "    try:\n",
    "        alice_ecdsa_pk.verify(alice_pks['signature'], alice_pks['message'], ec.ECDSA(hashes.SHA256()))\n",
    "    except:\n",
    "        return 'ERROR --- Different ECDSA key used'\n",
    "    else:\n",
    "        print(\"Alice's message is authentic!\")\n",
    "\n",
    "        received_cipher_pk = serialization.load_pem_public_key(alice_pks['message']['cipher_pk'])\n",
    "        received_mac_pk = serialization.load_pem_public_key(alice_pks['message']['mac_pk'])\n",
    "\n",
    "        # generate shared keys\n",
    "        cipher_key, mac_key = generate_shared_keys(cipher_sk, received_cipher_pk, mac_sk, received_mac_pk)\n",
    "\n",
    "        print(\"Bob is sending his public keys (signed by him).\")\n",
    "        await queue.put(sign_message(public_keys))\n",
    "\n",
    "        # receives ciphertext\n",
    "        packet = await queue.get()\n",
    "        print('Bob received ciphertext and tries to decrypt it.')\n",
    "\n",
    "        plaintext = decrypt(packet['ciphertext'], packet['nonce'], packet['tag'], cipher_key, mac_key, packet['ad'])\n",
    "\n",
    "        return plaintext"
   ]
  },
  {
   "cell_type": "code",
   "execution_count": null,
   "metadata": {},
   "outputs": [],
   "source": [
    "loop = asyncio.get_event_loop()\n",
    "queue = asyncio.Queue()\n",
    "asyncio.ensure_future(alice(queue))\n",
    "loop.run_until_complete(bob(queue))"
   ]
  }
 ],
 "metadata": {
  "kernelspec": {
   "display_name": "Python 3",
   "language": "python",
   "name": "python3"
  },
  "language_info": {
   "codemirror_mode": {
    "name": "ipython",
    "version": 3
   },
   "file_extension": ".py",
   "mimetype": "text/x-python",
   "name": "python",
   "nbconvert_exporter": "python",
   "pygments_lexer": "ipython3",
   "version": "3.9.6"
  },
  "orig_nbformat": 4,
  "vscode": {
   "interpreter": {
    "hash": "31f2aee4e71d21fbe5cf8b01ff0e069b9275f58929596ceb00d14d90e3e16cd6"
   }
  }
 },
 "nbformat": 4,
 "nbformat_minor": 2
}
