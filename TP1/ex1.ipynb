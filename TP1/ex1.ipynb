{
 "cells": [
  {
   "cell_type": "code",
   "execution_count": null,
   "metadata": {},
   "outputs": [],
   "source": [
    "from cryptography import x"
   ]
  }
 ],
 "metadata": {
  "kernelspec": {
   "display_name": "SageMath 9.7",
   "language": "python",
   "name": "sagemath"
  },
  "language_info": {
   "name": "python",
   "version": "3.10.9"
  },
  "orig_nbformat": 4,
  "vscode": {
   "interpreter": {
    "hash": "4e226a918e0878643e231dde4d981ce0bb505b45c3217e61bf5f4de308f9533d"
   }
  }
 },
 "nbformat": 4,
 "nbformat_minor": 2
}
