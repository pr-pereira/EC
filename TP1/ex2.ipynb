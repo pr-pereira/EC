{
 "cells": [
  {
   "attachments": {},
   "cell_type": "markdown",
   "metadata": {},
   "source": [
    "### Estruturas Criptográficas - 2022-2023\n",
    "### Grupo 7\n",
    "#### TP1. Problema 2\n",
    "\n",
    "Pretende-se criar uma cifra com autenticação de meta-dados a partir de um gerador pseudo-aleatório do tipo XOF. Este gerador, que tem como \"seed\" uma chave gerada por um KDF a partir de uma password fornecida, produzirá uma sequência de palavras (\"outputs\") de 64 bits. A mensagem será cifrada por blocos, i.e. será numa primeira fase dividida, e cada bloco será cifrado com o respetivo \"output\" gerado pelo gerador. Uma vez cifrada a mensagem, esta juntamente com os meta-dados serão autenticados utilizando a própria \"seed\" do gerador (a chave obtida pela KDF)."
   ]
  },
  {
   "cell_type": "code",
   "execution_count": 12,
   "metadata": {},
   "outputs": [],
   "source": [
    "import os\n",
    "from pickle import dumps\n",
    "from cryptography.hazmat.primitives import hashes, hmac, padding\n",
    "from cryptography.hazmat.primitives.kdf.pbkdf2 import PBKDF2HMAC"
   ]
  },
  {
   "cell_type": "code",
   "execution_count": 13,
   "metadata": {},
   "outputs": [],
   "source": [
    "def generate_cipher_key(password):\n",
    "    kdf = PBKDF2HMAC(\n",
    "        algorithm = hashes.SHA256(),\n",
    "        length = 32,\n",
    "        salt = os.urandom(16),\n",
    "        iterations = 480000,\n",
    "    )\n",
    "    return kdf.derive(password)\n",
    "\n",
    "def generator(seed, n):\n",
    "    digest = hashes.Hash(hashes.SHAKE256(2**n * 8))\n",
    "    digest.update(seed)\n",
    "    return digest.finalize()"
   ]
  },
  {
   "cell_type": "code",
   "execution_count": 71,
   "metadata": {},
   "outputs": [],
   "source": [
    "def encrypt(plaintext, outputs, auth_key):\n",
    "    blocks = []\n",
    "    for i in range(0, len(plaintext), 8):\n",
    "        block = plaintext[i:i+8]\n",
    "        # padding\n",
    "        if len(block) < 8:\n",
    "            padder = padding.PKCS7(64).padder()\n",
    "            padded_block = padder.update(block)\n",
    "            padded_block += padder.finalize()\n",
    "            blocks.append(padded_block)\n",
    "        else:\n",
    "            blocks.append(block)\n",
    "        \n",
    "    ciphertext = bytearray()\n",
    "    for block, output in zip(blocks, outputs):\n",
    "        for b, o in zip(block, output):\n",
    "            ciphertext.append(b ^ o)\n",
    "\n",
    "    h = hmac.HMAC(auth_key, hashes.SHA256())\n",
    "    h.update(ciphertext)\n",
    "\n",
    "    return (ciphertext, h.finalize())\n",
    "        \n",
    "\n",
    "def decrypt(ciphertext, outputs, signature, auth_key):\n",
    "    h = hmac.HMAC(auth_key, hashes.SHA256())\n",
    "    h.update(ciphertext)\n",
    "    try:\n",
    "        h.verify(signature)\n",
    "    except:\n",
    "        print('ERROR --- Different keys used')\n",
    "    else:\n",
    "        # decrypt ciphertext\n",
    "        blocks = [ciphertext[i:i+8] for i in range(0, len(ciphertext), 8)]\n",
    "\n",
    "        plaintext = bytearray()\n",
    "        for block, output in zip(blocks, outputs):\n",
    "            for b, o in zip(block, output):\n",
    "                plaintext.append(b ^ o)\n",
    "\n",
    "        unpadder = padding.PKCS7(64).unpadder()\n",
    "        plaintext_blocks = [plaintext[i:i+8] for i in range(0, len(plaintext), 8)]\n",
    "        unpadded_block = unpadder.update(plaintext_blocks[-1]) + unpadder.finalize()\n",
    "        plaintext_blocks[-1] = unpadded_block\n",
    "        \n",
    "        message = ''.join([ba.decode() for ba in plaintext_blocks])\n",
    "        return message"
   ]
  },
  {
   "cell_type": "code",
   "execution_count": 73,
   "metadata": {},
   "outputs": [
    {
     "name": "stdout",
     "output_type": "stream",
     "text": [
      "Original message:\n",
      "mafalda é l\n",
      "\n",
      "Ciphertext: \n",
      "\u001dsY\u0003uÏT\u0001Æ\u001c\u0016çûõXk\n",
      "mafalda é l\n"
     ]
    }
   ],
   "source": [
    "def run():\n",
    "\n",
    "    message = input('Enter the message: ')\n",
    "    print('Original message:\\n' + message)\n",
    "    n = int(input('Enter the n: '))\n",
    "    password = input('Enter the password: ').encode('utf-8')\n",
    "\n",
    "    cipher_key = generate_cipher_key(password)\n",
    "\n",
    "    words = generator(cipher_key, n)\n",
    "    outputs = [words[i:i+8] for i in range(0, len(words), 8)]\n",
    "\n",
    "    auth_key = b'accorded authentication key'\n",
    "\n",
    "    x = encrypt(bytes(message, 'utf-8'), outputs, auth_key)\n",
    "\n",
    "    ciphertext = x[0]\n",
    "    print(\"\\nCiphertext: \")\n",
    "    print(bytes(ciphertext).decode('unicode_escape'))\n",
    "    signature = x[1]\n",
    "\n",
    "    final_message = decrypt(ciphertext, outputs, signature, auth_key)\n",
    "\n",
    "    print(final_message)\n",
    "\n",
    "run()"
   ]
  }
 ],
 "metadata": {
  "kernelspec": {
   "display_name": "Python 3",
   "language": "python",
   "name": "python3"
  },
  "language_info": {
   "codemirror_mode": {
    "name": "ipython",
    "version": 3
   },
   "file_extension": ".py",
   "mimetype": "text/x-python",
   "name": "python",
   "nbconvert_exporter": "python",
   "pygments_lexer": "ipython3",
   "version": "3.9.6"
  },
  "orig_nbformat": 4,
  "vscode": {
   "interpreter": {
    "hash": "31f2aee4e71d21fbe5cf8b01ff0e069b9275f58929596ceb00d14d90e3e16cd6"
   }
  }
 },
 "nbformat": 4,
 "nbformat_minor": 2
}
