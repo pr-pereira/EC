{
 "cells": [
  {
   "attachments": {},
   "cell_type": "markdown",
   "metadata": {},
   "source": [
    "### Estruturas Criptográficas - 2022-2023\n",
    "### Grupo 7\n",
    "#### TP1. Problema 2\n",
    "\n",
    "Pretende-se criar uma cifra com autenticação de meta-dados a partir de um gerador pseudo-aleatório do tipo XOF. Este gerador, que tem como \"seed\" uma chave gerada por um KDF a partir de uma password fornecida, produzirá uma sequência de palavras (\"outputs\") de 64 bits. A mensagem será cifrada por blocos, i.e. será numa primeira fase dividida, e cada bloco será cifrado com o respetivo \"output\" gerado pelo gerador. Uma vez cifrada a mensagem, esta juntamente com os meta-dados serão autenticados utilizando a própria \"seed\" do gerador (a chave obtida pela KDF)."
   ]
  },
  {
   "cell_type": "code",
   "execution_count": 95,
   "metadata": {},
   "outputs": [],
   "source": [
    "import os\n",
    "from pickle import dumps\n",
    "from cryptography.hazmat.primitives import hashes, hmac, padding\n",
    "from cryptography.hazmat.backends import default_backend\n",
    "from cryptography.hazmat.primitives.kdf.pbkdf2 import PBKDF2HMAC"
   ]
  },
  {
   "cell_type": "code",
   "execution_count": 96,
   "metadata": {},
   "outputs": [],
   "source": [
    "def generate_cipher_key(password):\n",
    "    kdf = PBKDF2HMAC(\n",
    "        algorithm = hashes.SHA256(),\n",
    "        length = 32,\n",
    "        salt = os.urandom(16),\n",
    "        iterations = 480000,\n",
    "    )\n",
    "    return kdf.derive(password)\n",
    "\n",
    "def generator(seed, n):\n",
    "    digest = hashes.Hash(hashes.SHAKE256(2**n * 8))\n",
    "    digest.update(seed)\n",
    "    return digest.finalize()"
   ]
  },
  {
   "cell_type": "code",
   "execution_count": 99,
   "metadata": {},
   "outputs": [],
   "source": [
    "def encrypt(plaintext, outputs, auth_key):\n",
    "    blocks = []\n",
    "    for i in range(0, len(plaintext), 8):\n",
    "        block = plaintext[i:i+8]\n",
    "        # padding, com zeros\n",
    "        if len(block) < 8:\n",
    "            block += b'\\x00' * (8 - len(block))\n",
    "        blocks.append(block)\n",
    "        \n",
    "    ciphertext = b''\n",
    "    for block, output in zip(blocks, outputs):\n",
    "        for b, o in zip(block, output):\n",
    "            ciphertext = b''\n",
    "\n",
    "    h = hmac.HMAC(auth_key, hashes.SHAKE256(), backend = default_backend())\n",
    "    h.update(ciphertext)\n",
    "\n",
    "    return (ciphertext, h.finalize())\n",
    "        \n",
    "\n",
    "def decrypt(ciphertext, outputs, signature, auth_key):\n",
    "    h = hmac.HMAC(auth_key, hashes.SHAKE256(), backend = default_backend())\n",
    "    h.update(ciphertext)\n",
    "    try:\n",
    "        h.verify(signature)\n",
    "    except InvalidSignature:\n",
    "    else:\n",
    "        # decrypt ciphertext\n",
    "\n",
    "    return 0"
   ]
  },
  {
   "cell_type": "code",
   "execution_count": 103,
   "metadata": {},
   "outputs": [
    {
     "name": "stdout",
     "output_type": "stream",
     "text": [
      "Message: mafalda\n",
      "b'\\x073\\xeb|d\\x1f\\xaf\\xa3\\xac\\xf0\\xb4\\x14W|quW\\x088\\x04w\\xab\\t/\\x84 )\\x00\\xa8l\\xc2\\x99{\\x1b[\\xff\\x12\\x01(\\xef\\xbfI\\xb7\\xc0(\\xcc\\x89\\xda\\xfeU\\xe8\\xec|u\\xdc9w\\x18\\x94\\x84\\xfc\\x1e\\xc5F\\xbe\\xfe,\\xb8\\x8e\\xee\\x9c\\xddGf\\x8d\\xcc>\\x0b\\xa0\\xc5\\xcb;\\xb5\\xc3\\x8b\\x93\\xc35w\\xd6e\\xe1\\x89\\xa6\\x92\\xbc\\x88x\\xef\\x8a\\xe8I\\xab&\\xcc\\xfe\\xd0\\xa1\\xd7\\x84w\\xfcX\\x90y\\x89`\\x0b\\x02\\x8e\\xfb\\x82\\xb7^#X\\xe5\\r'\n",
      "-\n",
      "[519017301566009251, 12461658168394281333, 6271324072952138031, 9520654695063667353, 8870785042113177839, 13783750170490210778, 18326810361052126265, 8581772388840949062, 13762486682474421469, 5144955532671164613, 14644498464790266677, 8635201354880946876, 9833873166245145382, 14771473221345900540, 6381734302912807566, 18123249465440134413]\n",
      "-\n",
      "[b'\\x073\\xeb|d\\x1f\\xaf\\xa3', b'\\xac\\xf0\\xb4\\x14W|qu', b'W\\x088\\x04w\\xab\\t/', b'\\x84 )\\x00\\xa8l\\xc2\\x99', b'{\\x1b[\\xff\\x12\\x01(\\xef', b'\\xbfI\\xb7\\xc0(\\xcc\\x89\\xda', b'\\xfeU\\xe8\\xec|u\\xdc9', b'w\\x18\\x94\\x84\\xfc\\x1e\\xc5F', b'\\xbe\\xfe,\\xb8\\x8e\\xee\\x9c\\xdd', b'Gf\\x8d\\xcc>\\x0b\\xa0\\xc5', b'\\xcb;\\xb5\\xc3\\x8b\\x93\\xc35', b'w\\xd6e\\xe1\\x89\\xa6\\x92\\xbc', b'\\x88x\\xef\\x8a\\xe8I\\xab&', b'\\xcc\\xfe\\xd0\\xa1\\xd7\\x84w\\xfc', b'X\\x90y\\x89`\\x0b\\x02\\x8e', b'\\xfb\\x82\\xb7^#X\\xe5\\r']\n"
     ]
    }
   ],
   "source": [
    "def run():\n",
    "\n",
    "    message = input('Enter the message: ')\n",
    "    print('Message: ' + message)\n",
    "    n = int(input('Enter the n: '))\n",
    "    password = input('Enter the password: ').encode('utf-8')\n",
    "\n",
    "    cipher_key = generate_cipher_key(password)\n",
    "    words = generator(cipher_key, n)\n",
    "\n",
    "    # outputs = [int.from_bytes(words[i:i+8], byteorder='big') for i in range(0, len(words), 8)]\n",
    "    outputs = [words[i:i+8] for i in range(0, len(words), 8)]\n",
    "\n",
    "    auth_key = b'accorded authentication key'\n",
    "    x = encrypt(bytes(message, 'utf-8'), outputs, auth_key)\n",
    "\n",
    "    ciphertext = x[0]\n",
    "    signature = x[1]\n",
    "\n",
    "    final_message = decrypt(ciphertext, outputs, signature, auth_key)\n",
    "\n",
    "run()"
   ]
  }
 ],
 "metadata": {
  "kernelspec": {
   "display_name": "Python 3",
   "language": "python",
   "name": "python3"
  },
  "language_info": {
   "codemirror_mode": {
    "name": "ipython",
    "version": 3
   },
   "file_extension": ".py",
   "mimetype": "text/x-python",
   "name": "python",
   "nbconvert_exporter": "python",
   "pygments_lexer": "ipython3",
   "version": "3.9.6"
  },
  "orig_nbformat": 4,
  "vscode": {
   "interpreter": {
    "hash": "31f2aee4e71d21fbe5cf8b01ff0e069b9275f58929596ceb00d14d90e3e16cd6"
   }
  }
 },
 "nbformat": 4,
 "nbformat_minor": 2
}
