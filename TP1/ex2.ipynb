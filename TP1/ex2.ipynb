{
 "cells": [
  {
   "attachments": {},
   "cell_type": "markdown",
   "metadata": {},
   "source": [
    "### Estruturas Criptográficas - 2022-2023\n",
    "### Grupo 7\n",
    "#### TP1. Problema 2\n",
    "\n",
    "Pretende-se criar uma cifra com autenticação de meta-dados a partir de um gerador pseudo-aleatório do tipo XOF. Este gerador, que tem como \"seed\" uma chave gerada por um KDF a partir de uma password fornecida, produzirá uma sequência de palavras (\"outputs\") de 64 bits. A mensagem será cifrada por blocos, i.e. será numa primeira fase dividida, e cada bloco será cifrado com o respetivo \"output\" gerado pelo gerador. Uma vez cifrada a mensagem, esta juntamente com os meta-dados serão autenticados utilizando a própria \"seed\" do gerador (a chave obtida pela KDF)."
   ]
  },
  {
   "cell_type": "code",
   "execution_count": 2,
   "metadata": {},
   "outputs": [],
   "source": [
    "import os\n",
    "from pickle import dumps\n",
    "from cryptography.hazmat.primitives import hashes, hmac, padding\n",
    "from cryptography.hazmat.primitives.kdf.pbkdf2 import PBKDF2HMAC"
   ]
  },
  {
   "cell_type": "code",
   "execution_count": 3,
   "metadata": {},
   "outputs": [],
   "source": [
    "def generate_cipher_key(password):\n",
    "    kdf = PBKDF2HMAC(\n",
    "        algorithm = hashes.SHA256(),\n",
    "        length = 32,\n",
    "        salt = os.urandom(16),\n",
    "        iterations = 480000,\n",
    "    )\n",
    "    return kdf.derive(password)\n",
    "\n",
    "def generator(seed, n):\n",
    "    digest = hashes.Hash(hashes.SHAKE256(2**n * 8))\n",
    "    digest.update(seed)\n",
    "    return digest.finalize()"
   ]
  },
  {
   "cell_type": "code",
   "execution_count": 4,
   "metadata": {},
   "outputs": [],
   "source": [
    "auth_key = b'accorded authentication key'\n",
    "\n",
    "def encrypt(plaintext, outputs, ad):\n",
    "    blocks = []\n",
    "    pad = False\n",
    "    for i in range(0, len(plaintext), 8):\n",
    "        block = plaintext[i:i+8]\n",
    "        # padding\n",
    "        if len(block) < 8:\n",
    "            pad = True\n",
    "            padder = padding.PKCS7(64).padder()\n",
    "            padded_block = padder.update(block)\n",
    "            padded_block += padder.finalize()\n",
    "            blocks.append(padded_block)\n",
    "        else:\n",
    "            blocks.append(block)\n",
    "        \n",
    "    ciphertext = bytearray()\n",
    "    for block, output in zip(blocks, outputs):\n",
    "        for b, o in zip(block, output):\n",
    "            ciphertext.append(b ^ o)\n",
    "\n",
    "    h = hmac.HMAC(auth_key, hashes.SHA256())\n",
    "    h.update(ciphertext)\n",
    "    h.update(ad)\n",
    "\n",
    "    return (ciphertext, h.finalize(), pad)\n",
    "        \n",
    "\n",
    "def decrypt(ciphertext, outputs, signature, ad, pad):\n",
    "    h = hmac.HMAC(auth_key, hashes.SHA256())\n",
    "    h.update(ciphertext)\n",
    "    h.update(ad)\n",
    "\n",
    "    try:\n",
    "        h.verify(signature)\n",
    "    except:\n",
    "        print('ERROR --- Different keys used')\n",
    "    else:\n",
    "        # decrypt ciphertext\n",
    "        blocks = [ciphertext[i:i+8] for i in range(0, len(ciphertext), 8)]\n",
    "\n",
    "        plaintext = bytearray()\n",
    "        for block, output in zip(blocks, outputs):\n",
    "            for b, o in zip(block, output):\n",
    "                plaintext.append(b ^ o)\n",
    "\n",
    "        plaintext_blocks = [plaintext[i:i+8] for i in range(0, len(plaintext), 8)]\n",
    "        # check if block was padded or not\n",
    "        if pad:\n",
    "            unpadder = padding.PKCS7(64).unpadder()\n",
    "            unpadded_block = unpadder.update(plaintext_blocks[-1])\n",
    "            plaintext_blocks[-1] = unpadded_block + unpadder.finalize()\n",
    "        \n",
    "        message = ''.join([ba.decode() for ba in plaintext_blocks])\n",
    "        return message"
   ]
  },
  {
   "cell_type": "code",
   "execution_count": 6,
   "metadata": {},
   "outputs": [
    {
     "name": "stdout",
     "output_type": "stream",
     "text": [
      "Original message:\n",
      "hello there! :)\n",
      "\n",
      "Ciphertext:\n",
      "WöÍw¾-ÈtË¶Ü·ñe\n",
      "\n",
      "Decrypted message:\n",
      "hello there! :)\n"
     ]
    }
   ],
   "source": [
    "def run():\n",
    "\n",
    "    message = input('Enter the message: ')\n",
    "    print('Original message:\\n' + message)\n",
    "    n = int(input('Enter the n: '))\n",
    "    password = input('Enter the password: ').encode('utf-8')\n",
    "\n",
    "    cipher_key = generate_cipher_key(password)\n",
    "\n",
    "    words = generator(cipher_key, n)\n",
    "    outputs = [words[i:i+8] for i in range(0, len(words), 8)]\n",
    "\n",
    "    ad = os.urandom(16)\n",
    "    crypto = encrypt(bytes(message, 'utf-8'), outputs, ad)\n",
    "\n",
    "    ciphertext = crypto[0]\n",
    "    print(\"\\nCiphertext:\")\n",
    "    print(bytes(ciphertext).decode('unicode_escape'))\n",
    "    signature = crypto[1]\n",
    "\n",
    "    pad = crypto[2]\n",
    "    final_message = decrypt(ciphertext, outputs, signature, ad, pad)\n",
    "\n",
    "    print(\"\\nDecrypted message:\")\n",
    "    print(final_message)\n",
    "\n",
    "run()"
   ]
  }
 ],
 "metadata": {
  "kernelspec": {
   "display_name": "Python 3",
   "language": "python",
   "name": "python3"
  },
  "language_info": {
   "codemirror_mode": {
    "name": "ipython",
    "version": 3
   },
   "file_extension": ".py",
   "mimetype": "text/x-python",
   "name": "python",
   "nbconvert_exporter": "python",
   "pygments_lexer": "ipython3",
   "version": "3.9.6"
  },
  "orig_nbformat": 4,
  "vscode": {
   "interpreter": {
    "hash": "31f2aee4e71d21fbe5cf8b01ff0e069b9275f58929596ceb00d14d90e3e16cd6"
   }
  }
 },
 "nbformat": 4,
 "nbformat_minor": 2
}
