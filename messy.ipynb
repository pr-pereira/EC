{
 "cells": [
  {
   "attachments": {},
   "cell_type": "markdown",
   "metadata": {},
   "source": [
    "A transformação de Fiat-Shamir permite transformar um protocolo interativo num protocolo não interativo. Para isso, foi necessário redefinir as funções:\n",
    "\n",
    "$\\text{Sign}(x,w,m,t)$\n",
    "* constrói uma execução honesta do protocolo como $$\\text{HP}'(x,w) \\;\\equiv \\vartheta\\, (a , d) \\gets \\text{Comm}(x,w) \\centerdot \\vartheta\\, e\\gets H(a , m)\\,\\centerdot \\vartheta\\, r \\gets \\text{Repl}(d,e)\\centerdot (a,r)$$\n",
    "* Executa $t$ vezes a execução honesta: $\\,\\sigma_i \\gets \\text{HP}'(x,w)\\,$ para $i=1,\\cdots, t$.\n",
    "* A assinatura é $\\,\\text{sign}\\,\\gets\\,(\\sigma_1,\\cdots,\\sigma_t)$.\n",
    "\n",
    "$\\text{Verify}(x,m,\\text{sign})$\n",
    "* recupera $\\;\\sigma_1,\\cdots,\\sigma_t \\,\\gets\\,\\text{sign}$\n",
    "* para $\\,i = 1,\\cdots\\,t$ constrói as decisões deterministicas $$V_i(x,m)\\,\\equiv\\,\\vartheta\\,(a_i,r_i) \\gets \\sigma_i \\centerdot \\vartheta\\,e_i \\gets H(a_i,m)\\centerdot \\vartheta \\,\\pi_i \\gets (a_i,e_i,r_i) \\centerdot \\text{Ver}(x,\\pi_i)$$ e verifica se, para todas, $\\,\\mathbb{P}\\lbrack \\text{V}_i(x,m)\\rbrack\\;= \\; 1.$"
   ]
  }
 ],
 "metadata": {
  "kernelspec": {
   "display_name": "sage",
   "language": "python",
   "name": "python3"
  },
  "language_info": {
   "codemirror_mode": {
    "name": "ipython",
    "version": 3
   },
   "file_extension": ".py",
   "mimetype": "text/x-python",
   "name": "python",
   "nbconvert_exporter": "python",
   "pygments_lexer": "ipython3",
   "version": "3.9.16"
  },
  "orig_nbformat": 4
 },
 "nbformat": 4,
 "nbformat_minor": 2
}
