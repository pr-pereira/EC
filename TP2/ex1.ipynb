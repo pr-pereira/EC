{
 "cells": [
  {
   "attachments": {},
   "cell_type": "markdown",
   "metadata": {},
   "source": [
    "## Estruturas Criptográficas 2022/23\n",
    "## TP2. Problema 1\n",
    "### Grupo 7. Leonardo Berteotti e Paulo R. Pereira\n",
    "\n",
    "TBC"
   ]
  }
 ],
 "metadata": {
  "author": "Grupo 7",
  "kernelspec": {
   "display_name": "Python 3 (ipykernel)",
   "language": "python",
   "name": "python3"
  },
  "language_info": {
   "codemirror_mode": {
    "name": "ipython",
    "version": 3
   },
   "file_extension": ".py",
   "mimetype": "text/x-python",
   "name": "python",
   "nbconvert_exporter": "python",
   "pygments_lexer": "ipython3",
   "version": "3.10.10"
  },
  "title": "Estruturas Criptográficas 2022/23 --- TP1. Problema 1",
  "vscode": {
   "interpreter": {
    "hash": "4e226a918e0878643e231dde4d981ce0bb505b45c3217e61bf5f4de308f9533d"
   }
  }
 },
 "nbformat": 4,
 "nbformat_minor": 2
}
