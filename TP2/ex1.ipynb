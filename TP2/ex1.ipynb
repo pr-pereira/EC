{
 "cells": [
  {
   "attachments": {},
   "cell_type": "markdown",
   "metadata": {},
   "source": [
    "## Estruturas Criptográficas 2022/23\n",
    "## TP2. Problema 1\n",
    "### Grupo 7. Leonardo Berteotti e Paulo R. Pereira\n",
    "\n",
    "\n",
    "Pretende-se a construção de uma classe Python que implemente um **KEM - *El Gamal***. \n",
    "\n",
    "Em primeiro lugar, a classe deve inicializar cada instância recebendo  o parâmetro de segurança (tamanho em bits da ordem do grupo cíclico). O **KEM - *El Gamal*** utiliza os parâmetros públicos do protocolo Diffie-Hellman. Por sua vez, as técnicas da família Diffie-Hellman utilizam as propriedades de um grupo cíclico multiplicativo  $\\,\\mathcal{G}\\,\\equiv\\,\\mathbb{Z}^\\ast_p\\,$  em que  $\\,p\\,$ é  número primo grande. A ordem deste grupo é $p-1$. Assim, é necessário encontrar um primo $p$ cuja ordem tenha um tamanho igual ou superior ao parâmetro de segurança. Além disso, $p$ tem um divisor primo $q$ grande (de forma a que DLP seja  complexo). Assim,\n",
    "1. começa-se por gerar o primo $q$ tal que o seu tamanho é igual ou superior a 160 bits (20 bytes);\n",
    "2. gerar sucessivamente $p_i = q \\times 2^i + 1$ até que $p_i - 1$ tenha tamanho igual ou superior ao critério de segurança (passado como parâmetro);\n",
    "3. é gerado $g\\in\\mathbb{Z}_p^\\ast$ de ordem $q$;\n",
    "4. obtém-se o tuplo $(p, q, g)$.\n",
    "\n",
    "Para gerar $g$, uma vez que todo o grupo multiplicativo da forma $\\,\\mathbb{Z}_p^\\ast\\,$ é um grupo cíclico de ordem $\\,p-1\\,$, um gerador deste grupo pode-se determinar por tentativas percorrendo os pequenos primos ($\\,2,3,5,\\cdots$) e determinando a ordem de cada um. Um primo cuja ordem seja $\\,p-1\\,$ é um gerador. No entanto, queremos que $g$ tenha ordem $q$. Assim, podemos usar o algoritmo de encontrar geradores de grupos cíclicos, baseado no facto de que se $g$ é um gerador de $\\,\\mathbb{Z}_p^\\ast\\,$, então $g^{(p-1)//q}$ é um gerador de ordem q.\n",
    "\n",
    "O algoritmo consiste em gerar aleatoriamente um elemento g de Zp e calcular h = g^((p-1)/q). Em seguida, verificamos se h^q = 1 e se h é diferente de 1. Se ambas as condições são satisfeitas, então h é um gerador de ordem q.\n",
    "\n",
    "Deste modo, são implementados os seguintes métodos:\n",
    "- KeyGen : \n",
    "  1. Parâmetros públicos  $\\,p,q,g\\,$ como no protocolo DH\n",
    "  2. A chave privada é $\\,a\\neq 0\\in \\mathbb{Z}_q\\,$ gerada aleatoriamente; \n",
    "  3. A chave pública é $\\,\\beta \\equiv  g^a\\bmod p$\n",
    "- KEM $(\\beta)$ $\\equiv \\vartheta \\,r \\gets \\mathbb{Z}_q\\!\\setminus 0\\,\\centerdot\\, \\vartheta \\,\\mathsf{key}\\gets \\beta^r\\bmod p\\,\\centerdot\\, \\vartheta\\,\\mathsf{enc}\\gets g^r\\bmod p\\,\\centerdot\\,(\\mathsf{key}\\,,\\,\\mathsf{enc})$\n",
    "- KRev $(a,\\mathsf{enc})\\;\\equiv\\;\\mathsf{enc}^a\\bmod p$\n",
    "\n",
    "Os métodos DEM e DRev usam a primitiva Authenticated symmetric encryption ChaCha20Poly1305. Neste caso em particular, como a chave simétrica precisa de ter 32 bytes, foi usado um **KDF** para, a partir da chave acordada, gerar a nova chave acordada de 32 bytes. Note-se que para chave ser igual nos dois agentes, os parâmetros que conferem a aleatoriedade devem ser iguais e por isso são passados por argumento."
   ]
  },
  {
   "cell_type": "code",
   "execution_count": 58,
   "metadata": {},
   "outputs": [
    {
     "name": "stdout",
     "output_type": "stream",
     "text": [
      "Plaintext:\n",
      "hello there :)\n",
      "\n",
      "Ciphertext:\n",
      "¬hÖÈEÕïRê×\u001f2U-únS´ÙEÚÖ-ú\u0016z\n",
      "\n",
      "Decrypted ciphertext:\n",
      "hello there :)\n"
     ]
    }
   ],
   "source": [
    "from sage.all import *\n",
    "from cryptography.hazmat.primitives.ciphers.aead import ChaCha20Poly1305\n",
    "from cryptography.hazmat.primitives.kdf.hkdf import HKDF\n",
    "from cryptography.hazmat.primitives import hashes\n",
    "\n",
    "def find_generator(p, q):\n",
    "    while True:\n",
    "        g = Zmod(p).random_element()\n",
    "        h = g**((p-1)//q)\n",
    "        if h**q == 1 and h != 1:\n",
    "            return h\n",
    "\n",
    "def generate_private_key(q):\n",
    "    # generate a random integer between 1 and q-1 (inclusive)\n",
    "    a = randrange(1, q)\n",
    "    # ensure that the element is non-zero\n",
    "    while a == 0:\n",
    "        a = randrange(1, q)\n",
    "    return a\n",
    "\n",
    "class KEM_ElGamal:\n",
    "    def __init__(self, s):\n",
    "        self.s = s\n",
    "\n",
    "    def key_gen(self):\n",
    "        q = random_prime(2**160-1,True,2**(160-1))\n",
    "        i = 0\n",
    "        while True:\n",
    "            p = q * 2**i + 1\n",
    "            if (p-1).bit_length() >= self.s and is_prime(p):\n",
    "                break\n",
    "            i += 1\n",
    "        g = find_generator(p,q)\n",
    "\n",
    "        # generate_private_key(q) generates a random non-zero element in Zq\n",
    "        sk = generate_private_key(q)\n",
    "        pk = power_mod(g, sk, p)\n",
    "        return p, q, g, sk, pk\n",
    "\n",
    "    # generate key and key encapsulation\n",
    "    def KEM(self, pk, p, q, g):\n",
    "        r = generate_private_key(q)\n",
    "        key = power_mod(pk, r, p)\n",
    "        enc = power_mod(g, r, p)\n",
    "        return key, enc\n",
    "\n",
    "    # reveals key\n",
    "    def KRev(self, sk, enc, p):\n",
    "        return power_mod(enc, sk, p)\n",
    "\n",
    "    # encapsulates plaintext using the primitive of \n",
    "    # authenticated encryption ChaCha20Poly1305.\n",
    "    def DEM(self, plaintext, key, nonce):\n",
    "        key_bytes = str(key).encode('utf-8')\n",
    "        hkdf = HKDF(\n",
    "            algorithm=hashes.SHA256(),\n",
    "            length=32,\n",
    "            salt=b\"salt\",\n",
    "            info=b\"additional info\",\n",
    "        )\n",
    "        cipher_key = hkdf.derive(key_bytes)\n",
    "        chacha = ChaCha20Poly1305(cipher_key)\n",
    "        aad = b\"authenticated but unencrypted data\"\n",
    "        ciphertext = chacha.encrypt(nonce, plaintext, aad)\n",
    "        return ciphertext\n",
    "\n",
    "    def DRev(self, ciphertext, sk, enc, p, nonce):\n",
    "        key = self.KRev(sk, enc, p)\n",
    "        key_bytes = str(key).encode('utf-8')\n",
    "        hkdf = HKDF(\n",
    "            algorithm=hashes.SHA256(),\n",
    "            length=32,\n",
    "            salt=b\"salt\",\n",
    "            info=b\"additional info\",\n",
    "        )\n",
    "        cipher_key = hkdf.derive(key_bytes)\n",
    "        chacha = ChaCha20Poly1305(cipher_key)\n",
    "        aad = b\"authenticated but unencrypted data\"\n",
    "        plaintext = chacha.decrypt(nonce, ciphertext, aad)\n",
    "        return plaintext\n",
    "\n",
    "# Test\n",
    "kem = KEM_ElGamal(1024)\n",
    "p, q, g, sk, pk = kem.key_gen()\n",
    "\n",
    "k, e = kem.KEM(pk, p, q, g)\n",
    "\n",
    "nonce = os.urandom(12)\n",
    "\n",
    "plaintext = 'hello there :)'\n",
    "print(\"Plaintext:\\n\" + plaintext)\n",
    "ciphertext = kem.DEM(plaintext.encode('utf-8'), k, nonce)\n",
    "print(\"\\nCiphertext:\")\n",
    "print(ciphertext.decode('unicode_escape'))\n",
    "print(\"\\nDecrypted ciphertext:\")\n",
    "decrypted_ciphertext = kem.DRev(ciphertext, sk, e, p, nonce)\n",
    "print(decrypted_ciphertext.decode('unicode_escape'))\n",
    "\n"
   ]
  },
  {
   "attachments": {},
   "cell_type": "markdown",
   "metadata": {},
   "source": [
    "Por fim, pretende-se, a partir do **KEM** já definido, e usando a transformação de Fujisaki-Okamoto, um **PKE** que seja *IND-CCA* seguro.\n",
    "\n",
    "É então construido um esquema assimétrico $\\,E',D'\\,$  através de $$E'(x)\\;\\equiv\\;\\vartheta\\,r \\gets h\\,\\centerdot\\,\\vartheta\\,y \\gets x\\oplus g(r)\\,\\centerdot\\, (e,k) \\gets f(y\\|r)\\,\\centerdot\\,\\vartheta\\,c\\gets k\\oplus r\\,\\centerdot\\,(y, e, c)$$\n",
    "Portanto, tém-se o seguinte:\n",
    "1. gerar um *random_generated* $r$ que é resultado do hash a um número pseudo-aleatório;\n",
    "2. calcular $g(r)$ a partir do novo hash $g$;\n",
    "3. efetuar o XOR entre o *plaintext* $x$ e o $g(r)$ do ponto 2 de forma a obter $y$;\n",
    "4. concatenar $y$ com $r$ e obter a chave e o encapsulamento da chave $\\,k, e\\,$ tal como no método KEM da classe **KEM_ElGamal**;\n",
    "5. efetuar o XOR da chave $k$ com o $r$ para obter uma ofuscação da chave  $c$.\n"
   ]
  },
  {
   "cell_type": "code",
   "execution_count": 68,
   "metadata": {},
   "outputs": [
    {
     "ename": "TypeError",
     "evalue": "unable to convert \"b'g\\\\xe7\\\\xe8?Wk\\\\xb71essage'1096679095323017437\" to an integer",
     "output_type": "error",
     "traceback": [
      "\u001b[0;31m---------------------------------------------------------------------------\u001b[0m",
      "\u001b[0;31mTypeError\u001b[0m                                 Traceback (most recent call last)",
      "Cell \u001b[0;32mIn[68], line 15\u001b[0m\n\u001b[1;32m     12\u001b[0m     \u001b[39mreturn\u001b[39;00m y, enc, c\n\u001b[1;32m     14\u001b[0m plaintext \u001b[39m=\u001b[39m \u001b[39m\"\u001b[39m\u001b[39msecret message\u001b[39m\u001b[39m\"\u001b[39m\n\u001b[0;32m---> 15\u001b[0m y, enc, c \u001b[39m=\u001b[39m encryptFOT(pk, plaintext, p, q, g)\n",
      "Cell \u001b[0;32mIn[68], line 9\u001b[0m, in \u001b[0;36mencryptFOT\u001b[0;34m(pk, plaintext, p, q, g)\u001b[0m\n\u001b[1;32m      7\u001b[0m y \u001b[39m=\u001b[39m xor(plaintext\u001b[39m.\u001b[39mencode(\u001b[39m'\u001b[39m\u001b[39mutf-8\u001b[39m\u001b[39m'\u001b[39m), gr\u001b[39m.\u001b[39mto_bytes(\u001b[39mlen\u001b[39m(plaintext\u001b[39m.\u001b[39mencode(\u001b[39m'\u001b[39m\u001b[39mutf-8\u001b[39m\u001b[39m'\u001b[39m)), byteorder\u001b[39m=\u001b[39m\u001b[39m'\u001b[39m\u001b[39mlittle\u001b[39m\u001b[39m'\u001b[39m))\n\u001b[1;32m      8\u001b[0m conc \u001b[39m=\u001b[39m \u001b[39mstr\u001b[39m(y) \u001b[39m+\u001b[39m \u001b[39mstr\u001b[39m(r)\n\u001b[0;32m----> 9\u001b[0m key \u001b[39m=\u001b[39m power_mod(pk, conc, p)\n\u001b[1;32m     10\u001b[0m enc \u001b[39m=\u001b[39m power_mod(g, conc, p)\n\u001b[1;32m     11\u001b[0m c \u001b[39m=\u001b[39m xor(k, r)\n",
      "File \u001b[0;32m~/anaconda3/envs/sage/lib/python3.9/site-packages/sage/arith/misc.py:2265\u001b[0m, in \u001b[0;36mpower_mod\u001b[0;34m(a, n, m)\u001b[0m\n\u001b[1;32m   2262\u001b[0m \u001b[39mif\u001b[39;00m m \u001b[39m==\u001b[39m \u001b[39m1\u001b[39m:\n\u001b[1;32m   2263\u001b[0m     \u001b[39mreturn\u001b[39;00m a\u001b[39m.\u001b[39mparent()\u001b[39m.\u001b[39mzero()\n\u001b[0;32m-> 2265\u001b[0m n \u001b[39m=\u001b[39m Integer(n)\n\u001b[1;32m   2266\u001b[0m \u001b[39mif\u001b[39;00m \u001b[39mnot\u001b[39;00m n:\n\u001b[1;32m   2267\u001b[0m     \u001b[39mreturn\u001b[39;00m a\u001b[39m.\u001b[39mparent()\u001b[39m.\u001b[39mone()\n",
      "File \u001b[0;32m~/anaconda3/envs/sage/lib/python3.9/site-packages/sage/rings/integer.pyx:675\u001b[0m, in \u001b[0;36msage.rings.integer.Integer.__init__ (build/cythonized/sage/rings/integer.c:6239)\u001b[0;34m()\u001b[0m\n\u001b[1;32m    673\u001b[0m if '_' in x:\n\u001b[1;32m    674\u001b[0m     x = x.replace('_', '')\n\u001b[0;32m--> 675\u001b[0m mpz_set_str_python(self.value, str_to_bytes(x), base)\n\u001b[1;32m    676\u001b[0m return\n\u001b[1;32m    677\u001b[0m \n",
      "File \u001b[0;32m~/anaconda3/envs/sage/lib/python3.9/site-packages/sage/rings/integer.pyx:7110\u001b[0m, in \u001b[0;36msage.rings.integer.mpz_set_str_python (build/cythonized/sage/rings/integer.c:43735)\u001b[0;34m()\u001b[0m\n\u001b[1;32m   7108\u001b[0m assert base >= 2\n\u001b[1;32m   7109\u001b[0m if mpz_set_str(z, x, base) != 0:\n\u001b[0;32m-> 7110\u001b[0m     raise TypeError(\"unable to convert %r to an integer\" % char_to_str(s))\n\u001b[1;32m   7111\u001b[0m if sign < 0:\n\u001b[1;32m   7112\u001b[0m     mpz_neg(z, z)\n",
      "\u001b[0;31mTypeError\u001b[0m: unable to convert \"b'g\\\\xe7\\\\xe8?Wk\\\\xb71essage'1096679095323017437\" to an integer"
     ]
    }
   ],
   "source": [
    "def xor(a,b):\n",
    "    return bytes([ x^y for (x,y) in zip(a,b)])\n",
    "\n",
    "def encryptFOT (pk, plaintext, p, q, g):\n",
    "    r = hash(ZZ.random_element(0, p-1))\n",
    "    gr = hash(str(r))\n",
    "    y = xor(plaintext.encode('utf-8'), gr.to_bytes(len(plaintext.encode('utf-8')), byteorder='little'))\n",
    "    conc = str(y) + str(r)\n",
    "    key = power_mod(pk, conc, p)\n",
    "    enc = power_mod(g, conc, p)\n",
    "    c = xor(k, r)\n",
    "    return y, enc, c\n",
    "\n",
    "plaintext = \"secret message\"\n",
    "y, enc, c = encryptFOT(pk, plaintext, p, q, g)"
   ]
  },
  {
   "attachments": {},
   "cell_type": "markdown",
   "metadata": {},
   "source": [
    "O algorimo de decifrar será $$D'(y,e,c) \\;\\equiv\\;\\vartheta\\,k \\gets \\mathsf{KREv}(e)\\,\\centerdot\\,\\vartheta\\,r \\gets c \\oplus k\\,\\centerdot\\,\\mathsf{if}\\;\\;(e,k)\\neq f(y\\|r) \\;\\;\\mathsf{then}\\;\\;\\bot\\;\\;\\mathsf{else}\\;\\;y \\oplus g(r)$$\n",
    "Assim, tém-se que:\n",
    "1. ola\n",
    "2. x"
   ]
  },
  {
   "cell_type": "code",
   "execution_count": 38,
   "metadata": {},
   "outputs": [],
   "source": [
    "def decryptFOT (pk, sk, ciphertext, e, c):\n",
    "    X = \"TODO\""
   ]
  }
 ],
 "metadata": {
  "author": "Grupo 7",
  "kernelspec": {
   "display_name": "Python 3 (ipykernel)",
   "language": "python",
   "name": "python3"
  },
  "language_info": {
   "codemirror_mode": {
    "name": "ipython",
    "version": 3
   },
   "file_extension": ".py",
   "mimetype": "text/x-python",
   "name": "python",
   "nbconvert_exporter": "python",
   "pygments_lexer": "ipython3",
   "version": "3.9.16"
  },
  "title": "Estruturas Criptográficas 2022/23 --- TP1. Problema 1",
  "vscode": {
   "interpreter": {
    "hash": "4e226a918e0878643e231dde4d981ce0bb505b45c3217e61bf5f4de308f9533d"
   }
  }
 },
 "nbformat": 4,
 "nbformat_minor": 2
}
