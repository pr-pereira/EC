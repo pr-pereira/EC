{
 "cells": [
  {
   "cell_type": "code",
   "execution_count": null,
   "id": "d90de263",
   "metadata": {},
   "outputs": [],
   "source": [
    "Teste"
   ]
  }
 ],
 "metadata": {
  "kernelspec": {
   "display_name": "SageMath 9.7",
   "language": "sage",
   "name": "sagemath"
  }
 },
 "nbformat": 4,
 "nbformat_minor": 5
}
